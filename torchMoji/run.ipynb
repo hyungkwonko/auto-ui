{
 "cells": [
  {
   "cell_type": "code",
   "execution_count": 4,
   "metadata": {},
   "outputs": [],
   "source": [
    "#@title Env setting\n",
    "from __future__ import print_function, division, unicode_literals\n",
    "# import example_helper\n",
    "import json\n",
    "import csv\n",
    "import argparse\n",
    "\n",
    "import numpy as np\n",
    "import emoji\n",
    "\n",
    "from torchmoji.sentence_tokenizer import SentenceTokenizer\n",
    "from torchmoji.model_def import torchmoji_emojis\n",
    "from torchmoji.global_variables import PRETRAINED_PATH, VOCAB_PATH\n",
    "\n",
    "# Emoji map in emoji_overview.png\n",
    "EMOJIS = \":joy: :unamused: :weary: :sob: :heart_eyes: \\\n",
    ":pensive: :ok_hand: :blush: :heart: :smirk: \\\n",
    ":grin: :notes: :flushed: :100: :sleeping: \\\n",
    ":relieved: :relaxed: :raised_hands: :two_hearts: :expressionless: \\\n",
    ":sweat_smile: :pray: :confused: :kissing_heart: :heartbeat: \\\n",
    ":neutral_face: :information_desk_person: :disappointed: :see_no_evil: :tired_face: \\\n",
    ":v: :sunglasses: :rage: :thumbsup: :cry: \\\n",
    ":sleepy: :yum: :triumph: :hand: :mask: \\\n",
    ":clap: :eyes: :gun: :persevere: :smiling_imp: \\\n",
    ":sweat: :broken_heart: :yellow_heart: :musical_note: :speak_no_evil: \\\n",
    ":wink: :skull: :confounded: :smile: :stuck_out_tongue_winking_eye: \\\n",
    ":angry: :no_good: :muscle: :facepunch: :purple_heart: \\\n",
    ":sparkling_heart: :blue_heart: :grimacing: :sparkles:\".split(' ')\n",
    "\n",
    "def top_elements(array, k):\n",
    "    ind = np.argpartition(array, -k)[-k:]\n",
    "    return ind[np.argsort(array[ind])][::-1]\n",
    "\n",
    "# Tokenizing using dictionary\n",
    "with open(VOCAB_PATH, 'r') as f:\n",
    "    vocabulary = json.load(f)\n",
    "\n"
   ]
  },
  {
   "cell_type": "code",
   "execution_count": 9,
   "metadata": {},
   "outputs": [
    {
     "name": "stdout",
     "output_type": "stream",
     "text": [
      "I am so happy for you. ☺ 😊 💙 💛 ❤\n"
     ]
    }
   ],
   "source": [
    "#@title Write the input text, and the model will recommend some emojis for you\n",
    "input_text = 'I am so happy for you.' #@param \n",
    "maxlen = 30 #@param\n",
    "\n",
    "st = SentenceTokenizer(vocabulary, maxlen)\n",
    "\n",
    "# Loading model\n",
    "model = torchmoji_emojis(PRETRAINED_PATH)\n",
    "# Running predictions\n",
    "tokenized, _, _ = st.tokenize_sentences([input_text])\n",
    "\n",
    "# print(f\"tokenized: {tokenized}\")\n",
    "\n",
    "# Get sentence probability\n",
    "prob = model(tokenized)[0]\n",
    "\n",
    "# print(f\"prob: {prob}\")\n",
    "\n",
    "# Top emoji id\n",
    "emoji_ids = top_elements(prob, 5)\n",
    "\n",
    "# print(f\"emoji_ids: {emoji_ids}\")\n",
    "\n",
    "# map to emojis\n",
    "emojis = map(lambda x: EMOJIS[x], emoji_ids)\n",
    "\n",
    "print(emoji.emojize(\"{} {}\".format(input_text,' '.join(emojis)), use_aliases=True))"
   ]
  },
  {
   "cell_type": "code",
   "execution_count": null,
   "metadata": {},
   "outputs": [],
   "source": []
  }
 ],
 "metadata": {
  "kernelspec": {
   "display_name": "Python 3.7.13 ('autoui2')",
   "language": "python",
   "name": "python3"
  },
  "language_info": {
   "codemirror_mode": {
    "name": "ipython",
    "version": 3
   },
   "file_extension": ".py",
   "mimetype": "text/x-python",
   "name": "python",
   "nbconvert_exporter": "python",
   "pygments_lexer": "ipython3",
   "version": "3.7.13"
  },
  "orig_nbformat": 4,
  "vscode": {
   "interpreter": {
    "hash": "18b1ba31593d0d231dc4ab171732a6e59282da54a145287df519e902286ff9cd"
   }
  }
 },
 "nbformat": 4,
 "nbformat_minor": 2
}
