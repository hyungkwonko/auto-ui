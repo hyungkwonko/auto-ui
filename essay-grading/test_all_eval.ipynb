{
 "cells": [
  {
   "cell_type": "markdown",
   "metadata": {},
   "source": [
    "## Multi-Scale Essay Representation (Inference demo)"
   ]
  },
  {
   "cell_type": "markdown",
   "metadata": {},
   "source": [
    "### Load packages"
   ]
  },
  {
   "cell_type": "code",
   "execution_count": 1,
   "metadata": {},
   "outputs": [
    {
     "name": "stderr",
     "output_type": "stream",
     "text": [
      "/home/kixlab3/miniconda3/envs/autoui/lib/python3.7/site-packages/tqdm/auto.py:22: TqdmWarning: IProgress not found. Please update jupyter and ipywidgets. See https://ipywidgets.readthedocs.io/en/stable/user_install.html\n",
      "  from .autonotebook import tqdm as notebook_tqdm\n"
     ]
    }
   ],
   "source": [
    "import torch, configargparse\n",
    "from data import load_asap_data\n",
    "from model_architechure_bert_multi_scale_multi_loss import DocumentBertScoringModel"
   ]
  },
  {
   "cell_type": "markdown",
   "metadata": {},
   "source": [
    "### Set hyperparameters"
   ]
  },
  {
   "cell_type": "code",
   "execution_count": 2,
   "metadata": {},
   "outputs": [],
   "source": [
    "# p.add('--efl_encode', action='store_true', help='is continue training')\n",
    "# p.add('--bert_batch_size', help='bert_batch_size', type=int)\n",
    "\n",
    "args = configargparse.ArgumentParser()\n",
    "args.prompt = 'p8'\n",
    "args.fold = 3\n",
    "args.batch_size = 32\n",
    "args.data_sample_rate = 1.0\n",
    "args.r_dropout = 0.0\n",
    "args.chunk_sizes = '90_30_130_10'\n",
    "args.cuda = True\n",
    "args.data_dir = './data'\n",
    "args.model_directory = './models'\n",
    "args.result_file = './pred.txt'\n",
    "args.test_file = f\"{args.data_dir}/p8_fold3_test.txt\"\n",
    "args.model_directory = f\"{args.model_directory}/{args.prompt}_{args.fold}\"\n",
    "args.bert_model_path = args.model_directory"
   ]
  },
  {
   "cell_type": "markdown",
   "metadata": {},
   "source": [
    "## Check GPU availability"
   ]
  },
  {
   "cell_type": "code",
   "execution_count": 3,
   "metadata": {},
   "outputs": [
    {
     "name": "stdout",
     "output_type": "stream",
     "text": [
      "CUDA available\n"
     ]
    }
   ],
   "source": [
    "if torch.cuda.is_available() and args.cuda:\n",
    "    args.device = 'cuda'\n",
    "    print(\"CUDA available\")\n",
    "else:\n",
    "    args.device = 'cpu'\n",
    "    print(\"CPU\")"
   ]
  },
  {
   "cell_type": "markdown",
   "metadata": {},
   "source": [
    "### Run inference (all data at once)"
   ]
  },
  {
   "cell_type": "code",
   "execution_count": null,
   "metadata": {},
   "outputs": [],
   "source": [
    "# load data\n",
    "test = load_asap_data(args.test_file)\n",
    "\n",
    "test_documents, test_labels = [], []\n",
    "for _, text, label in test:\n",
    "    test_documents.append(text)\n",
    "    test_labels.append(label)\n",
    "\n",
    "print(\"sample number:\", len(test_documents))\n",
    "print(\"label number:\", len(test_labels))"
   ]
  },
  {
   "cell_type": "code",
   "execution_count": 4,
   "metadata": {},
   "outputs": [
    {
     "name": "stdout",
     "output_type": "stream",
     "text": [
      "sample number: 144\n",
      "label number: 144\n",
      "prompt:8, asap_essay_length:1077\n",
      "chunk_sizes_str:90_30_130_10, bert_batch_size_str:12,36,9,108\n",
      "pearson: 0.808\n",
      "qwk: 0.797\n",
      "test_eva_res:  ['0.118', '0.0', '0.229', '0.0', '0.653', '0.118', '0.347', '0.808', '0.797', '0.993', '0.119', '0.212', '0.993', '0.119', '0.212', '0.0', '0.0', '0', '0.0', '0.0', '0']\n"
     ]
    },
    {
     "data": {
      "text/plain": [
       "(0.808, 0.797)"
      ]
     },
     "execution_count": 4,
     "metadata": {},
     "output_type": "execute_result"
    }
   ],
   "source": [
    "model = DocumentBertScoringModel(args=args)\n",
    "model.predict_for_regress((test_documents, test_labels))"
   ]
  },
  {
   "cell_type": "code",
   "execution_count": null,
   "metadata": {},
   "outputs": [],
   "source": []
  }
 ],
 "metadata": {
  "kernelspec": {
   "display_name": "Python 3.7.13 ('autoui')",
   "language": "python",
   "name": "python3"
  },
  "language_info": {
   "codemirror_mode": {
    "name": "ipython",
    "version": 3
   },
   "file_extension": ".py",
   "mimetype": "text/x-python",
   "name": "python",
   "nbconvert_exporter": "python",
   "pygments_lexer": "ipython3",
   "version": "3.7.13"
  },
  "orig_nbformat": 4,
  "vscode": {
   "interpreter": {
    "hash": "eba15bb0fa04b688c9eadc30250e186770e6d09ee3d2ff66a9e9c24b1055c944"
   }
  }
 },
 "nbformat": 4,
 "nbformat_minor": 2
}
