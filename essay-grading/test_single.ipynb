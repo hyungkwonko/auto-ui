{
 "cells": [
  {
   "cell_type": "markdown",
   "metadata": {},
   "source": [
    "## Multi-Scale Essay Representation (Inference demo)"
   ]
  },
  {
   "cell_type": "markdown",
   "metadata": {},
   "source": [
    "### Load packages"
   ]
  },
  {
   "cell_type": "code",
   "execution_count": 2,
   "metadata": {},
   "outputs": [],
   "source": [
    "import torch, configargparse\n",
    "from data import load_asap_data\n",
    "from model_architechure_bert_multi_scale_multi_loss_single import DocumentBertScoringModel"
   ]
  },
  {
   "cell_type": "markdown",
   "metadata": {},
   "source": [
    "### Set hyperparameters"
   ]
  },
  {
   "cell_type": "code",
   "execution_count": 3,
   "metadata": {},
   "outputs": [],
   "source": [
    "args = configargparse.ArgumentParser()\n",
    "args.prompt = 'p8'\n",
    "args.fold = 3\n",
    "args.batch_size = 32\n",
    "args.data_sample_rate = 1.0\n",
    "args.r_dropout = 0.0\n",
    "args.chunk_sizes = '90_30_130_10'\n",
    "args.cuda = True\n",
    "args.data_dir = './data'\n",
    "args.model_directory = './models'\n",
    "args.result_file = './pred.txt'\n",
    "args.test_file = f\"{args.data_dir}/p8_fold3_test.txt\"\n",
    "args.model_directory = f\"{args.model_directory}/{args.prompt}_{args.fold}\"\n",
    "args.bert_model_path = args.model_directory\n",
    "# args.efl_encode = True  # help='is continue training'\n",
    "# args.bert_batch_size = ?  # help='bert_batch_size', type=int"
   ]
  },
  {
   "cell_type": "markdown",
   "metadata": {},
   "source": [
    "## Check GPU availability"
   ]
  },
  {
   "cell_type": "code",
   "execution_count": 4,
   "metadata": {},
   "outputs": [
    {
     "name": "stdout",
     "output_type": "stream",
     "text": [
      "CUDA available\n"
     ]
    }
   ],
   "source": [
    "if torch.cuda.is_available() and args.cuda:\n",
    "    args.device = 'cuda'\n",
    "    print(\"CUDA available\")\n",
    "else:\n",
    "    args.device = 'cpu'\n",
    "    print(\"CPU\")"
   ]
  },
  {
   "cell_type": "markdown",
   "metadata": {},
   "source": [
    "### Prepare dataset"
   ]
  },
  {
   "cell_type": "code",
   "execution_count": 5,
   "metadata": {},
   "outputs": [
    {
     "name": "stdout",
     "output_type": "stream",
     "text": [
      "sample number: 144\n",
      "label number: 144\n"
     ]
    }
   ],
   "source": [
    "# load data\n",
    "test = load_asap_data(args.test_file)\n",
    "\n",
    "test_documents, test_labels = [], []\n",
    "for _, text, label in test:\n",
    "    test_documents.append(text)\n",
    "    test_labels.append(label)\n",
    "\n",
    "print(\"sample number:\", len(test_documents))\n",
    "print(\"label number:\", len(test_labels))"
   ]
  },
  {
   "cell_type": "markdown",
   "metadata": {},
   "source": [
    "### Check input data and Get a prediction result"
   ]
  },
  {
   "cell_type": "code",
   "execution_count": 8,
   "metadata": {},
   "outputs": [
    {
     "name": "stdout",
     "output_type": "stream",
     "text": [
      "sample document: ['\"                   Laughter is the Shortest Distance Between Two People A thing we have done since birth is laugh. Laughter is something incredible in the world of human existence, it is something that relieves awkward situations, brings people together, and makes life a little bit easier. Laughter is something that everyone shares in common. Some people find laughter in different things than others but still we can all laugh together. Many times in my life has laughter helped me through tough situations, brought me close to someone, and just made life more enjoyable.   I remember once I was trying out for a volleyball team. It was the first day of tryouts and I was really nervous because I didn\\'t know anyone. I had never even heard of these people and now I was going to be competing against them. There was one thing I knew about them though. It was that we all shared a common goal of making the team and being successful. Tryouts began and I felt like they were wondering why I was even there, but I ignored them and just kept working hard. Tryouts went okay for the rest of the week but still something just didn\\'t feel right. I still felt like I didn\\'t belong there. It was the last day of tryouts and the girls had warmed up a little, but I still felt a little uncomfortable. After the last practice it was time to announce the teams. I was really nervous cause what if I didn\\'t make it? Or what if I did, but everyone hated me on the team? He announced the names and I was beginning to give up hope when he said my name. I was so excited, but the girls seemed to be annoyed by my name getting called. When I got home I told my parents and they were excited for me. I then told them how I didn\\'t really know anybody and kind of felt like an outsider. They asked me if I had tried talking to anyone, and I said no not really they didn\\'t try talking to me so I thought why should I? My mom then told me that I could only get to know them if put myself out there. I thought about it and realized I really hadn\\'t. I ignored them as much as they ignored me. I also wasn\\'t myself, because I really am a cool person and I am fun to be around, I just for some reason I crawled into a shell this time. I decided the next day at practice I would put myself out there. The next practice I showed up and was partnered up with a girl named @PERSON1. It was so awkward and at first we were just quiet passing the ball back an forth. Then I started talking to her and making jokes she laughed and I laughed and we had a great time. The rest of the practice went great. The awkward moments faded away into laughter. We all worked hard and joked around with each other, laughed, and I really felt like we were bonding. They laughter had brought us together. All this time it felt like we were so far away and different and really it wasn\\'t like that at all. Having fun and laughing together showed us how much we had in common and that we were all the same. I believe that day that laughter brought our team together.  I will never forget that day. It was the day I learned how important laughter was in a relationship, getting to know someone, and how well it brings people together. That season of volleyball I made many new friends. I also learned a valuable lesson that and awkward situation can always be turned around by laughter. Today I still talk to those girls on the team and still today we all laugh together, just because you known someone for a while doesn\\'t mean the fun and laughter has to fade away, because I believe it should get stronger. Whenever I am meeting new people I always try to break the ice and lighten up the mood with something funny, because I think that a big point in our lives is to be happy, have fun, and all laugh togther. That is exactly what I plan to do.\"']\n",
      "label label: [42.0]\n"
     ]
    }
   ],
   "source": [
    "from random import randrange\n",
    "\n",
    "rint = randrange(len(test_documents))\n",
    "\n",
    "sample_docum = [test_documents[rint]]\n",
    "sample_label = [test_labels[rint]]\n",
    "\n",
    "print(f\"sample document: {sample_docum}\")\n",
    "print(f\"label label: {sample_label}\")"
   ]
  },
  {
   "cell_type": "code",
   "execution_count": 11,
   "metadata": {},
   "outputs": [
    {
     "name": "stdout",
     "output_type": "stream",
     "text": [
      "prompt:8, asap_essay_length:1077\n",
      "chunk_sizes_str:90_30_130_10, bert_batch_size_str:12,36,9,108\n",
      "============================================================\n",
      "predicted result: 38.85538864135742, answer: 42.0\n"
     ]
    }
   ],
   "source": [
    "model = DocumentBertScoringModel(args=args)\n",
    "pred, answ = model.predict_for_regress((sample_docum, sample_label))\n",
    "\n",
    "print(\"==\"*30)\n",
    "print(f\"predicted result: {pred}, answer: {answ}\")"
   ]
  },
  {
   "cell_type": "code",
   "execution_count": null,
   "metadata": {},
   "outputs": [],
   "source": []
  }
 ],
 "metadata": {
  "kernelspec": {
   "display_name": "Python 3.7.13 ('autoui')",
   "language": "python",
   "name": "python3"
  },
  "language_info": {
   "codemirror_mode": {
    "name": "ipython",
    "version": 3
   },
   "file_extension": ".py",
   "mimetype": "text/x-python",
   "name": "python",
   "nbconvert_exporter": "python",
   "pygments_lexer": "ipython3",
   "version": "3.7.13"
  },
  "orig_nbformat": 4,
  "vscode": {
   "interpreter": {
    "hash": "eba15bb0fa04b688c9eadc30250e186770e6d09ee3d2ff66a9e9c24b1055c944"
   }
  }
 },
 "nbformat": 4,
 "nbformat_minor": 2
}
